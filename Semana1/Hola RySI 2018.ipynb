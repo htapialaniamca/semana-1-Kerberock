{
 "cells": [
  {
   "cell_type": "code",
   "execution_count": 1,
   "metadata": {},
   "outputs": [
    {
     "name": "stdout",
     "output_type": "stream",
     "text": [
      "hi man\n"
     ]
    }
   ],
   "source": [
    "print('hi man')"
   ]
  },
  {
   "cell_type": "code",
   "execution_count": 2,
   "metadata": {},
   "outputs": [
    {
     "name": "stdout",
     "output_type": "stream",
     "text": [
      "cosa\n"
     ]
    }
   ],
   "source": [
    "print \"cosa\""
   ]
  },
  {
   "cell_type": "code",
   "execution_count": 4,
   "metadata": {},
   "outputs": [
    {
     "name": "stdout",
     "output_type": "stream",
     "text": [
      "0\n",
      "1\n",
      "4\n",
      "9\n",
      "16\n"
     ]
    }
   ],
   "source": [
    "r0 = 5\n",
    "for v in range(r0):\n",
    "    print v*v\n",
    "    if(v == 3):\n",
    "        r0 = 10"
   ]
  },
  {
   "cell_type": "code",
   "execution_count": 5,
   "metadata": {},
   "outputs": [
    {
     "name": "stdout",
     "output_type": "stream",
     "text": [
      "0\n",
      "1\n",
      "4\n",
      "9\n",
      "16\n"
     ]
    }
   ],
   "source": [
    "r0 = 5\n",
    "for v in range(r0):\n",
    "    print v*v\n",
    "    if(v == 3):\n",
    "        r0 = 10"
   ]
  },
  {
   "cell_type": "code",
   "execution_count": 2,
   "metadata": {},
   "outputs": [
    {
     "name": "stdout",
     "output_type": "stream",
     "text": [
      "/home/dzrmdr/anaconda2/bin:/home/dzrmdr/anaconda2/bin:/usr/local/sbin:/usr/local/bin:/usr/sbin:/usr/bin:/sbin:/bin:/usr/games:/usr/local/games:/snap/bin\r\n"
     ]
    }
   ],
   "source": [
    "!echo $PATH"
   ]
  },
  {
   "cell_type": "code",
   "execution_count": 2,
   "metadata": {},
   "outputs": [
    {
     "name": "stdout",
     "output_type": "stream",
     "text": [
      "9999\r\n"
     ]
    }
   ],
   "source": [
    "!echo $AP_PORT"
   ]
  },
  {
   "cell_type": "code",
   "execution_count": 4,
   "metadata": {},
   "outputs": [
    {
     "name": "stdout",
     "output_type": "stream",
     "text": [
      "List of devices attached\r\n",
      "TA06809MT3\tdevice\r\n",
      "\r\n"
     ]
    }
   ],
   "source": [
    "!adb devices"
   ]
  },
  {
   "cell_type": "code",
   "execution_count": 5,
   "metadata": {},
   "outputs": [],
   "source": [
    "!adb forward tcp:9999 tcp:3333"
   ]
  },
  {
   "cell_type": "code",
   "execution_count": 6,
   "metadata": {},
   "outputs": [],
   "source": [
    "import android"
   ]
  },
  {
   "cell_type": "code",
   "execution_count": 7,
   "metadata": {},
   "outputs": [],
   "source": [
    "d = android.Android()"
   ]
  },
  {
   "cell_type": "code",
   "execution_count": 8,
   "metadata": {},
   "outputs": [
    {
     "data": {
      "text/plain": [
       "Result(id=0, result=None, error=None)"
      ]
     },
     "execution_count": 8,
     "metadata": {},
     "output_type": "execute_result"
    }
   ],
   "source": [
    "d.makeToast(\"Hola mundo\")"
   ]
  },
  {
   "cell_type": "code",
   "execution_count": 16,
   "metadata": {
    "collapsed": true
   },
   "outputs": [
    {
     "data": {
      "text/plain": [
       "['',\n",
       " '/home/dzrmdr/anaconda2/lib/python27.zip',\n",
       " '/home/dzrmdr/anaconda2/lib/python2.7',\n",
       " '/home/dzrmdr/anaconda2/lib/python2.7/plat-linux2',\n",
       " '/home/dzrmdr/anaconda2/lib/python2.7/lib-tk',\n",
       " '/home/dzrmdr/anaconda2/lib/python2.7/lib-old',\n",
       " '/home/dzrmdr/anaconda2/lib/python2.7/lib-dynload',\n",
       " '/home/dzrmdr/anaconda2/lib/python2.7/site-packages',\n",
       " '/home/dzrmdr/anaconda2/lib/python2.7/site-packages/IPython/extensions',\n",
       " '/home/dzrmdr/.ipython']"
      ]
     },
     "execution_count": 16,
     "metadata": {},
     "output_type": "execute_result"
    }
   ],
   "source": [
    "import sys\n",
    "sys.path"
   ]
  },
  {
   "cell_type": "code",
   "execution_count": 6,
   "metadata": {},
   "outputs": [
    {
     "data": {
      "text/plain": [
       "Result(id=0, result=None, error=None)"
      ]
     },
     "execution_count": 6,
     "metadata": {},
     "output_type": "execute_result"
    }
   ],
   "source": [
    "d.vibrate(2000)"
   ]
  },
  {
   "cell_type": "code",
   "execution_count": 24,
   "metadata": {},
   "outputs": [
    {
     "data": {
      "text/plain": [
       "Result(id=9, result=None, error=None)"
      ]
     },
     "execution_count": 24,
     "metadata": {},
     "output_type": "execute_result"
    }
   ],
   "source": [
    "d.notify(\"No manches\", \"Hola vato, soy una notificación\")"
   ]
  },
  {
   "cell_type": "code",
   "execution_count": 14,
   "metadata": {},
   "outputs": [],
   "source": [
    "import time\n",
    "\n",
    "eval = \"\"\n",
    "for x in range(5, 10):\n",
    "    d.vibrate(500)\n",
    "    d.notify(\"Noti \" + str(x), \"Soy la notificación \" + str(x))\n",
    "    if(x % 2 == 0):\n",
    "        eval = \"par\"\n",
    "    else:\n",
    "        eval = \"impar\"\n",
    "    d.ttsSpeak(\"Alarma \" + str(x) + \" activa. Soy un número \" + str(eval))\n",
    "    time.sleep(1)"
   ]
  },
  {
   "cell_type": "code",
   "execution_count": 17,
   "metadata": {},
   "outputs": [
    {
     "data": {
      "text/plain": [
       "Result(id=24, result=None, error=None)"
      ]
     },
     "execution_count": 17,
     "metadata": {},
     "output_type": "execute_result"
    }
   ],
   "source": [
    "d.ttsSpeak(\" Coty, te pido que no me compares con esa seudo tecnología llamada Siri\")"
   ]
  },
  {
   "cell_type": "code",
   "execution_count": 10,
   "metadata": {
    "collapsed": true
   },
   "outputs": [
    {
     "data": {
      "text/plain": [
       "Result(id=9, result=None, error=None)"
      ]
     },
     "execution_count": 10,
     "metadata": {},
     "output_type": "execute_result"
    }
   ],
   "source": [
    "d.dialogCreateAlert(\"Opción uno\", \"Opción dos\")\n",
    "d.dialogSetPositiveButtonText(\"soy el uno\")\n",
    "d.dialogSetNegativeButtonText(\"soy el dos\")\n",
    "d.dialogShow()"
   ]
  },
  {
   "cell_type": "code",
   "execution_count": 12,
   "metadata": {},
   "outputs": [
    {
     "name": "stdout",
     "output_type": "stream",
     "text": [
      "[0, 1, 2, 3, 4, 5, 6, 7, 8, 9, 10, 11, 12, 13, 14, 15, 16, 17, 18, 19, 20, 21, 22, 23, 24, 25, 26, 27, 28, 29, 30, 31, 32, 33, 34, 35, 36, 37, 38, 39, 40, 41, 42, 43, 44, 45, 46, 47, 48, 49]\n"
     ]
    }
   ],
   "source": [
    "var = d.dialogGetResponse().result\n",
    "if var['which'] == 'positive':\n",
    "    print range(50)"
   ]
  },
  {
   "cell_type": "code",
   "execution_count": 20,
   "metadata": {},
   "outputs": [
    {
     "name": "stdout",
     "output_type": "stream",
     "text": [
      "{u'bearing': 0, u'altitude': 1348.4000244140625, u'provider': u'network', u'longitude': -96.9158026, u'time': 1520875192022, u'latitude': 19.5201832, u'speed': 0, u'accuracy': 30}\n"
     ]
    }
   ],
   "source": [
    "loc = d.getLastKnownLocation().result\n",
    "if loc[\"gps\"] is not None:\n",
    "    loc = loc[\"gps\"]\n",
    "else:\n",
    "    loc = loc[\"network\"]\n",
    "print loc"
   ]
  },
  {
   "cell_type": "code",
   "execution_count": 23,
   "metadata": {},
   "outputs": [
    {
     "data": {
      "text/plain": [
       "Result(id=12, result=None, error=None)"
      ]
     },
     "execution_count": 23,
     "metadata": {},
     "output_type": "execute_result"
    }
   ],
   "source": [
    "d.startLocating()"
   ]
  },
  {
   "cell_type": "code",
   "execution_count": 24,
   "metadata": {},
   "outputs": [
    {
     "name": "stdout",
     "output_type": "stream",
     "text": [
      "[{u'thoroughfare': u'Enrique C R\\xe9bsamen', u'locality': u'Xalapa Enr\\xedquez', u'sub_admin_area': u'Xalapa', u'admin_area': u'Veracruz', u'feature_name': u'48', u'country_code': u'MX', u'country_name': u'M\\xe9xico', u'postal_code': u'91060'}]\n"
     ]
    },
    {
     "data": {
      "text/plain": [
       "'91060'"
      ]
     },
     "execution_count": 24,
     "metadata": {},
     "output_type": "execute_result"
    }
   ],
   "source": [
    "lat = loc[\"latitude\"]\n",
    "lon = loc[\"longitude\"]\n",
    "direction = d.geocode(lat, lon).result\n",
    "print direction\n",
    "(direction[0][\"postal_code\"]).encode(encoding=\"utf-8\")"
   ]
  },
  {
   "cell_type": "code",
   "execution_count": 25,
   "metadata": {},
   "outputs": [
    {
     "data": {
      "text/plain": [
       "Result(id=14, result=None, error=None)"
      ]
     },
     "execution_count": 25,
     "metadata": {},
     "output_type": "execute_result"
    }
   ],
   "source": [
    "import requests, datetime\n",
    "\n",
    "cp = (direction[0]['postal_code']).encode(encoding=\"utf-8\")\n",
    "cc = (direction[0]['country_code']).encode(encoding=\"utf-8\")\n",
    "cd = (direction[0]['locality']).encode(encoding=\"utf-8\")\n",
    "time =  loc['time']\n",
    "hora = datetime.datetime.fromtimestamp(time/1e3).strftime('%H')\n",
    "minutos = datetime.datetime.fromtimestamp(time/1e3).strftime('%M')\n",
    "calle = (direction[0]['thoroughfare']).encode(encoding=\"utf-8\")\n",
    "\n",
    "url = 'http://api.openweathermap.org/data/2.5/weather?zip={0},{1}&APPID=dfeea5e604e1948b28652216ad910d11'.format(cp,cc)\n",
    "r = requests.get(url).json()\n",
    "wdesc = (r['weather'][0]['description']).encode(encoding=\"utf-8\")\n",
    "if(wdesc == 'clear sky'):\n",
    "    wdesc = 'cielo despejado, yeiiiiiii'\n",
    "msg = 'En la ciudad de {0}, siendo las {1} horas con {2} minutos, \\n, en {3}, el estado del tiempo es {4} \\n  autsilio xD!!!!'.format(cd,hora,minutos,calle,wdesc)\n",
    "d.ttsSpeak(msg)"
   ]
  },
  {
   "cell_type": "code",
   "execution_count": 36,
   "metadata": {},
   "outputs": [
    {
     "name": "stdout",
     "output_type": "stream",
     "text": [
      "{u'clouds': {u'all': 0}, u'name': u'Felipe Carrillo Puerto', u'coord': {u'lat': 19.51, u'lon': -97.1}, u'sys': {u'country': u'MX', u'message': 0.0056, u'sunset': 1520815020, u'sunrise': 1520771989}, u'weather': [{u'main': u'Clear', u'id': 800, u'icon': u'01n', u'description': u'clear sky'}], u'cod': 200, u'base': u'stations', u'dt': 1520741610, u'main': {u'temp': 287.651, u'grnd_level': 865.97, u'temp_max': 287.651, u'sea_level': 1023.37, u'humidity': 80, u'pressure': 865.97, u'temp_min': 287.651}, u'id': 0, u'wind': {u'speed': 0.88, u'deg': 162.002}}\n"
     ]
    }
   ],
   "source": [
    "cp = direction[0][u'postal_code']\n",
    "cc = direction[0][u'country_code']\n",
    "url = 'http://api.openweathermap.org/data/2.5/weather?zip={0},{1}&APPID=dfeea5e604e1948b28652216ad910d11'.format(cp,cc)\n",
    "r = requests.get(url).json()\n",
    "print r"
   ]
  },
  {
   "cell_type": "code",
   "execution_count": 34,
   "metadata": {},
   "outputs": [
    {
     "ename": "SyntaxError",
     "evalue": "EOL while scanning string literal (<ipython-input-34-674b47e438c8>, line 4)",
     "output_type": "error",
     "traceback": [
      "\u001b[0;36m  File \u001b[0;32m\"<ipython-input-34-674b47e438c8>\"\u001b[0;36m, line \u001b[0;32m4\u001b[0m\n\u001b[0;31m    d.ttsSpeak(u'palabra)\u001b[0m\n\u001b[0m                        ^\u001b[0m\n\u001b[0;31mSyntaxError\u001b[0m\u001b[0;31m:\u001b[0m EOL while scanning string literal\n"
     ]
    }
   ],
   "source": [
    "palabra = 'apúrate'\n",
    "palabra = unicode(palabra, 'utf-8')\n",
    "palabra = \"No soy stiven howking men\" + palabra + \" a programar MVC con javascript\"\n",
    "d.ttsSpeak(palabra)"
   ]
  },
  {
   "cell_type": "code",
   "execution_count": 10,
   "metadata": {},
   "outputs": [
    {
     "data": {
      "text/plain": [
       "Result(id=2, result=None, error=None)"
      ]
     },
     "execution_count": 10,
     "metadata": {},
     "output_type": "execute_result"
    }
   ],
   "source": [
    "d.ttsSpeak(\"Hola amigos, ¿adivinen quién soy?\")"
   ]
  },
  {
   "cell_type": "code",
   "execution_count": 12,
   "metadata": {},
   "outputs": [
    {
     "data": {
      "text/plain": [
       "Result(id=4, result=None, error=None)"
      ]
     },
     "execution_count": 12,
     "metadata": {},
     "output_type": "execute_result"
    }
   ],
   "source": [
    "d.ttsSpeak(\"No estés inventando Juanma, sabes que eso es un choro\")"
   ]
  },
  {
   "cell_type": "code",
   "execution_count": null,
   "metadata": {},
   "outputs": [],
   "source": []
  },
  {
   "cell_type": "code",
   "execution_count": null,
   "metadata": {},
   "outputs": [],
   "source": []
  }
 ],
 "metadata": {
  "kernelspec": {
   "display_name": "Python 2",
   "language": "python",
   "name": "python2"
  },
  "language_info": {
   "codemirror_mode": {
    "name": "ipython",
    "version": 2
   },
   "file_extension": ".py",
   "mimetype": "text/x-python",
   "name": "python",
   "nbconvert_exporter": "python",
   "pygments_lexer": "ipython2",
   "version": "2.7.14"
  }
 },
 "nbformat": 4,
 "nbformat_minor": 2
}
