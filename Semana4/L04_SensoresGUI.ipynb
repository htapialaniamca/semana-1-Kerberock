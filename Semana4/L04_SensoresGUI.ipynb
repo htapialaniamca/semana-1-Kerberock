{
 "cells": [
  {
   "cell_type": "code",
   "execution_count": 1,
   "metadata": {},
   "outputs": [],
   "source": [
    "import android\n",
    "\n",
    "!adb forward tcp:9999 tcp:3333\n",
    "droid = android.Android()"
   ]
  },
  {
   "cell_type": "code",
   "execution_count": 2,
   "metadata": {},
   "outputs": [
    {
     "name": "stdout",
     "output_type": "stream",
     "text": [
      "9999\r\n"
     ]
    }
   ],
   "source": [
    "!echo $AP_PORT"
   ]
  },
  {
   "cell_type": "code",
   "execution_count": 2,
   "metadata": {},
   "outputs": [],
   "source": [
    "def load():\n",
    "    import android\n",
    "    !adb forward tcp:9999 tcp:3333\n",
    "    droid = android.Android()\n",
    "    \n",
    "    return droid"
   ]
  },
  {
   "cell_type": "code",
   "execution_count": 3,
   "metadata": {},
   "outputs": [],
   "source": [
    "x = load()"
   ]
  },
  {
   "cell_type": "code",
   "execution_count": 31,
   "metadata": {},
   "outputs": [
    {
     "name": "stdout",
     "output_type": "stream",
     "text": [
      "Mira las opciones extras\n",
      "java.lang.RuntimeException: No dialog to show.\n"
     ]
    }
   ],
   "source": [
    "droid.addOptionsMenuItem(\"3 segundos\", \"3\", None, \"three_seconds\")\n",
    "droid.addOptionsMenuItem(\"5 segundos\", \"5\", \"None\", \"five_seconds\")\n",
    "droid.addOptionsMenuItem(\"8 segundos\", \"8\", None, \"eight_seconds\")\n",
    "\n",
    "print \"Mira las opciones extras\"\n",
    "\n",
    "droid.dialogShow()\n",
    "\n",
    "while True:\n",
    "    response = droid.eventWait(10000).result\n",
    "    if response == None:\n",
    "        break\n",
    "    print response\n",
    "    if response[\"name\"] == \"8\":\n",
    "        break\n",
    "    \n",
    "\n",
    "#droid.startSensingTimed(2, 100)\n",
    "#while tiempoCensado <= tiempoTotal:\n",
    "#    aceleracion.append(droid.sensorsReadAccelerometer().result)\n",
    "#    tiempoCensado += 100   \n",
    "#droid.stopSensing()"
   ]
  },
  {
   "cell_type": "code",
   "execution_count": 2,
   "metadata": {
    "scrolled": false
   },
   "outputs": [
    {
     "name": "stdout",
     "output_type": "stream",
     "text": [
      "5\n",
      "5\n",
      "[None, None, None]\n",
      "[None, None, None]\n",
      "[None, None, None]\n",
      "[None, None, None]\n",
      "[None, None, None]\n",
      "[None, None, None]\n",
      "[None, None, None]\n",
      "[None, None, None]\n",
      "[None, None, None]\n",
      "[None, None, None]\n",
      "[None, None, None]\n",
      "[None, None, None]\n",
      "[None, None, None]\n",
      "[None, None, None]\n",
      "[None, None, None]\n",
      "[None, None, None]\n",
      "[None, None, None]\n",
      "[None, None, None]\n",
      "[None, None, None]\n",
      "[None, None, None]\n",
      "[None, None, None]\n",
      "[None, None, None]\n",
      "[None, None, None]\n",
      "[None, None, None]\n",
      "[None, None, None]\n",
      "[None, None, None]\n",
      "[None, None, None]\n",
      "[None, None, None]\n",
      "[None, None, None]\n",
      "[None, None, None]\n",
      "[None, None, None]\n",
      "[None, None, None]\n",
      "[None, None, None]\n",
      "[None, None, None]\n",
      "[-0.0784532, -0.19613299, 10.002783]\n",
      "[-0.0784532, -0.19613299, 10.002783]\n",
      "[-0.1176798, -0.1569064, 10.002783]\n",
      "[-0.1176798, -0.1569064, 10.002783]\n",
      "[-0.1176798, -0.1569064, 10.002783]\n",
      "[-0.1176798, -0.0784532, 9.885103]\n",
      "[-0.1176798, -0.0784532, 9.885103]\n",
      "[-0.1176798, -0.1176798, 9.92433]\n",
      "[-0.1176798, -0.1176798, 9.92433]\n",
      "[-0.0392266, -0.0392266, 9.92433]\n",
      "[-0.0392266, -0.0392266, 9.92433]\n",
      "[-0.1569064, -0.1176798, 10.002783]\n",
      "[-0.1569064, -0.1176798, 10.002783]\n",
      "[-0.0392266, -0.1569064, 9.92433]\n",
      "[-0.0392266, -0.1569064, 9.92433]\n",
      "[-0.0392266, -0.19613299, 10.002783]\n",
      "[-0.0392266, -0.19613299, 10.002783]\n"
     ]
    },
    {
     "data": {
      "text/plain": [
       "Result(id=59, result=None, error=None)"
      ]
     },
     "execution_count": 2,
     "metadata": {},
     "output_type": "execute_result"
    }
   ],
   "source": [
    "import time, urllib2\n",
    "\n",
    "droid.dialogCreateAlert('Elegir un tiempo')\n",
    "items = ['3','6','8']\n",
    "droid.dialogSetSingleChoiceItems(items)\n",
    "droid.dialogSetPositiveButtonText('Elegir')\n",
    "droid.dialogShow()\n",
    "droid.dialogGetResponse()\n",
    "selected = droid.dialogGetSelectedItems()\n",
    "print selected[0]\n",
    "#result = droid.eventWait(10000).result\n",
    "#print result\n",
    "tiempoTotal = selected[0]\n",
    "    \n",
    "iteraciones = 0\n",
    "tiempoCensado = 0\n",
    "aceleracion = []\n",
    "\n",
    "binID = \"tmm8NjUR\"\n",
    "host = \"datadrop/wolframcloud.com\"\n",
    "base_url = \"https://\" + host\n",
    "bin_url = \"/api/v1.0/Add?bin={0}\".format(binID)\n",
    "\n",
    "print tiempoTotal\n",
    "\n",
    "droid.startSensingTimed(2, 100)\n",
    "tiempoTotal = tiempoTotal * 1000\n",
    "while tiempoCensado <= tiempoTotal:\n",
    "    #print 'iteraciones: ' + str(iteraciones)\n",
    "    #aceleracion.append(droid.sensorsReadAccelerometer().result)\n",
    "    a = droid.sensorsReadAccelerometer().result\n",
    "    print a\n",
    "    tiempoCensado += 100\n",
    "    #iteraciones += 1\n",
    "    #print tiempoCensado\n",
    "    #print tiempoTotal\n",
    "    mensaje = '&Ax={0}&Ay={1}&Az={2}'.format(a[0],a[1],a[2])\n",
    "    drop_url = base_url+binID+bin_url+mensaje\n",
    "    req = urllib2.Request(drop_url)\n",
    "    time.sleep(1 / 100)\n",
    "    \n",
    "droid.stopSensing()\n",
    "droid.eventClearBuffer()"
   ]
  },
  {
   "cell_type": "code",
   "execution_count": 9,
   "metadata": {},
   "outputs": [
    {
     "data": {
      "text/plain": [
       "Result(id=3437, result=None, error=None)"
      ]
     },
     "execution_count": 9,
     "metadata": {},
     "output_type": "execute_result"
    }
   ],
   "source": [
    "droid.stopSensing()"
   ]
  }
 ],
 "metadata": {
  "kernelspec": {
   "display_name": "Python 2",
   "language": "python",
   "name": "python2"
  },
  "language_info": {
   "codemirror_mode": {
    "name": "ipython",
    "version": 2
   },
   "file_extension": ".py",
   "mimetype": "text/x-python",
   "name": "python",
   "nbconvert_exporter": "python",
   "pygments_lexer": "ipython2",
   "version": "2.7.14"
  }
 },
 "nbformat": 4,
 "nbformat_minor": 2
}
